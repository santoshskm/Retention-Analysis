{
 "cells": [
  {
   "cell_type": "markdown",
   "id": "7857f5c0",
   "metadata": {},
   "source": [
    "##### Import packages"
   ]
  },
  {
   "cell_type": "code",
   "execution_count": 9,
   "id": "a255da2f",
   "metadata": {},
   "outputs": [],
   "source": [
    "import json\n",
    "import pandas as pd\n",
    "import numpy as np"
   ]
  },
  {
   "cell_type": "code",
   "execution_count": null,
   "id": "44c88ed6",
   "metadata": {},
   "outputs": [],
   "source": [
    "#### Reading raw data and converting to a Dataframe"
   ]
  },
  {
   "cell_type": "code",
   "execution_count": 10,
   "id": "c00f02e7",
   "metadata": {},
   "outputs": [
    {
     "data": {
      "text/html": [
       "<div>\n",
       "<style scoped>\n",
       "    .dataframe tbody tr th:only-of-type {\n",
       "        vertical-align: middle;\n",
       "    }\n",
       "\n",
       "    .dataframe tbody tr th {\n",
       "        vertical-align: top;\n",
       "    }\n",
       "\n",
       "    .dataframe thead th {\n",
       "        text-align: right;\n",
       "    }\n",
       "</style>\n",
       "<table border=\"1\" class=\"dataframe\">\n",
       "  <thead>\n",
       "    <tr style=\"text-align: right;\">\n",
       "      <th></th>\n",
       "      <th>gender</th>\n",
       "      <th>age</th>\n",
       "      <th>gross_income</th>\n",
       "      <th>segment</th>\n",
       "      <th>num_credit_cards</th>\n",
       "      <th>tiprel_1mes</th>\n",
       "      <th>ind_actividad_cliente</th>\n",
       "      <th>num_Products</th>\n",
       "      <th>num_loans</th>\n",
       "      <th>duration</th>\n",
       "    </tr>\n",
       "  </thead>\n",
       "  <tbody>\n",
       "    <tr>\n",
       "      <th>0</th>\n",
       "      <td>M</td>\n",
       "      <td>21 years</td>\n",
       "      <td>$ 79070.91</td>\n",
       "      <td>Individuals</td>\n",
       "      <td>0</td>\n",
       "      <td>I</td>\n",
       "      <td>0</td>\n",
       "      <td>1</td>\n",
       "      <td>0</td>\n",
       "      <td>1035</td>\n",
       "    </tr>\n",
       "    <tr>\n",
       "      <th>1</th>\n",
       "      <td>M</td>\n",
       "      <td>23 years</td>\n",
       "      <td>$ 178270.68</td>\n",
       "      <td>College_Graduated</td>\n",
       "      <td>0</td>\n",
       "      <td>I</td>\n",
       "      <td>0</td>\n",
       "      <td>1</td>\n",
       "      <td>0</td>\n",
       "      <td>1097</td>\n",
       "    </tr>\n",
       "    <tr>\n",
       "      <th>2</th>\n",
       "      <td>M</td>\n",
       "      <td>24 years</td>\n",
       "      <td>$ 31243.56</td>\n",
       "      <td>College_Graduated</td>\n",
       "      <td>0</td>\n",
       "      <td>I</td>\n",
       "      <td>1</td>\n",
       "      <td>1</td>\n",
       "      <td>0</td>\n",
       "      <td>1866</td>\n",
       "    </tr>\n",
       "    <tr>\n",
       "      <th>3</th>\n",
       "      <td>M</td>\n",
       "      <td>24 years</td>\n",
       "      <td>$ 130740.54</td>\n",
       "      <td>College_Graduated</td>\n",
       "      <td>0</td>\n",
       "      <td>I</td>\n",
       "      <td>0</td>\n",
       "      <td>1</td>\n",
       "      <td>0</td>\n",
       "      <td>1440</td>\n",
       "    </tr>\n",
       "    <tr>\n",
       "      <th>4</th>\n",
       "      <td>M</td>\n",
       "      <td>31 years</td>\n",
       "      <td>$ 112975.17</td>\n",
       "      <td>Individuals</td>\n",
       "      <td>0</td>\n",
       "      <td>I</td>\n",
       "      <td>0</td>\n",
       "      <td>0</td>\n",
       "      <td>0</td>\n",
       "      <td>376</td>\n",
       "    </tr>\n",
       "  </tbody>\n",
       "</table>\n",
       "</div>"
      ],
      "text/plain": [
       "  gender       age gross_income            segment  num_credit_cards  \\\n",
       "0      M  21 years   $ 79070.91        Individuals                 0   \n",
       "1      M  23 years  $ 178270.68  College_Graduated                 0   \n",
       "2      M  24 years   $ 31243.56  College_Graduated                 0   \n",
       "3      M  24 years  $ 130740.54  College_Graduated                 0   \n",
       "4      M  31 years  $ 112975.17        Individuals                 0   \n",
       "\n",
       "  tiprel_1mes  ind_actividad_cliente  num_Products  num_loans  duration  \n",
       "0           I                      0             1          0      1035  \n",
       "1           I                      0             1          0      1097  \n",
       "2           I                      1             1          0      1866  \n",
       "3           I                      0             1          0      1440  \n",
       "4           I                      0             0          0       376  "
      ]
     },
     "execution_count": 10,
     "metadata": {},
     "output_type": "execute_result"
    }
   ],
   "source": [
    "with open('retention.json', 'r') as file:\n",
    "    file_data = json.loads(file.read())\n",
    "    data_list = []\n",
    "for data in file_data.values():\n",
    "    data_list.append(data)\n",
    "df = pd.DataFrame(data_list)\n",
    "df.head()"
   ]
  },
  {
   "cell_type": "markdown",
   "id": "224987d0",
   "metadata": {},
   "source": [
    "#### Total relevant fields"
   ]
  },
  {
   "cell_type": "code",
   "execution_count": 11,
   "id": "3f379d8f",
   "metadata": {},
   "outputs": [
    {
     "name": "stdout",
     "output_type": "stream",
     "text": [
      "['gender', 'age', 'gross_income', 'segment', 'num_credit_cards', 'tiprel_1mes', 'ind_actividad_cliente', 'num_Products', 'num_loans', 'duration']\n"
     ]
    },
    {
     "data": {
      "text/plain": [
       "10"
      ]
     },
     "execution_count": 11,
     "metadata": {},
     "output_type": "execute_result"
    }
   ],
   "source": [
    "total_columns = [i for i in df.columns]\n",
    "print(total_columns)\n",
    "len(total_columns)"
   ]
  },
  {
   "cell_type": "markdown",
   "id": "5f7b174a",
   "metadata": {},
   "source": [
    "#### Convert to csv"
   ]
  },
  {
   "cell_type": "code",
   "execution_count": 13,
   "id": "ca0ffffe",
   "metadata": {},
   "outputs": [],
   "source": [
    "df.to_csv('retention.csv', index=False)"
   ]
  },
  {
   "cell_type": "code",
   "execution_count": 12,
   "id": "5231c49b",
   "metadata": {},
   "outputs": [
    {
     "data": {
      "text/plain": [
       "gender                   object\n",
       "age                      object\n",
       "gross_income             object\n",
       "segment                  object\n",
       "num_credit_cards          int64\n",
       "tiprel_1mes              object\n",
       "ind_actividad_cliente     int64\n",
       "num_Products              int64\n",
       "num_loans                 int64\n",
       "duration                  int64\n",
       "dtype: object"
      ]
     },
     "execution_count": 12,
     "metadata": {},
     "output_type": "execute_result"
    }
   ],
   "source": [
    "df.dtypes"
   ]
  },
  {
   "cell_type": "code",
   "execution_count": 13,
   "id": "2d77a56c",
   "metadata": {},
   "outputs": [
    {
     "data": {
      "text/html": [
       "<div>\n",
       "<style scoped>\n",
       "    .dataframe tbody tr th:only-of-type {\n",
       "        vertical-align: middle;\n",
       "    }\n",
       "\n",
       "    .dataframe tbody tr th {\n",
       "        vertical-align: top;\n",
       "    }\n",
       "\n",
       "    .dataframe thead th {\n",
       "        text-align: right;\n",
       "    }\n",
       "</style>\n",
       "<table border=\"1\" class=\"dataframe\">\n",
       "  <thead>\n",
       "    <tr style=\"text-align: right;\">\n",
       "      <th></th>\n",
       "      <th>num_credit_cards</th>\n",
       "      <th>ind_actividad_cliente</th>\n",
       "      <th>num_Products</th>\n",
       "      <th>num_loans</th>\n",
       "      <th>duration</th>\n",
       "    </tr>\n",
       "  </thead>\n",
       "  <tbody>\n",
       "    <tr>\n",
       "      <th>count</th>\n",
       "      <td>54030.000000</td>\n",
       "      <td>54030.000000</td>\n",
       "      <td>54030.000000</td>\n",
       "      <td>54030.000000</td>\n",
       "      <td>54030.000000</td>\n",
       "    </tr>\n",
       "    <tr>\n",
       "      <th>mean</th>\n",
       "      <td>0.049880</td>\n",
       "      <td>0.469073</td>\n",
       "      <td>1.536017</td>\n",
       "      <td>0.009365</td>\n",
       "      <td>2913.936665</td>\n",
       "    </tr>\n",
       "    <tr>\n",
       "      <th>std</th>\n",
       "      <td>0.217698</td>\n",
       "      <td>0.499047</td>\n",
       "      <td>1.578848</td>\n",
       "      <td>0.096320</td>\n",
       "      <td>2027.956268</td>\n",
       "    </tr>\n",
       "    <tr>\n",
       "      <th>min</th>\n",
       "      <td>0.000000</td>\n",
       "      <td>0.000000</td>\n",
       "      <td>0.000000</td>\n",
       "      <td>0.000000</td>\n",
       "      <td>366.000000</td>\n",
       "    </tr>\n",
       "    <tr>\n",
       "      <th>25%</th>\n",
       "      <td>0.000000</td>\n",
       "      <td>0.000000</td>\n",
       "      <td>1.000000</td>\n",
       "      <td>0.000000</td>\n",
       "      <td>1118.000000</td>\n",
       "    </tr>\n",
       "    <tr>\n",
       "      <th>50%</th>\n",
       "      <td>0.000000</td>\n",
       "      <td>0.000000</td>\n",
       "      <td>1.000000</td>\n",
       "      <td>0.000000</td>\n",
       "      <td>2039.500000</td>\n",
       "    </tr>\n",
       "    <tr>\n",
       "      <th>75%</th>\n",
       "      <td>0.000000</td>\n",
       "      <td>1.000000</td>\n",
       "      <td>2.000000</td>\n",
       "      <td>0.000000</td>\n",
       "      <td>4693.000000</td>\n",
       "    </tr>\n",
       "    <tr>\n",
       "      <th>90%</th>\n",
       "      <td>0.000000</td>\n",
       "      <td>1.000000</td>\n",
       "      <td>3.000000</td>\n",
       "      <td>0.000000</td>\n",
       "      <td>5844.000000</td>\n",
       "    </tr>\n",
       "    <tr>\n",
       "      <th>95%</th>\n",
       "      <td>0.000000</td>\n",
       "      <td>1.000000</td>\n",
       "      <td>5.000000</td>\n",
       "      <td>0.000000</td>\n",
       "      <td>6529.000000</td>\n",
       "    </tr>\n",
       "    <tr>\n",
       "      <th>max</th>\n",
       "      <td>1.000000</td>\n",
       "      <td>1.000000</td>\n",
       "      <td>13.000000</td>\n",
       "      <td>1.000000</td>\n",
       "      <td>7909.000000</td>\n",
       "    </tr>\n",
       "  </tbody>\n",
       "</table>\n",
       "</div>"
      ],
      "text/plain": [
       "       num_credit_cards  ind_actividad_cliente  num_Products     num_loans  \\\n",
       "count      54030.000000           54030.000000  54030.000000  54030.000000   \n",
       "mean           0.049880               0.469073      1.536017      0.009365   \n",
       "std            0.217698               0.499047      1.578848      0.096320   \n",
       "min            0.000000               0.000000      0.000000      0.000000   \n",
       "25%            0.000000               0.000000      1.000000      0.000000   \n",
       "50%            0.000000               0.000000      1.000000      0.000000   \n",
       "75%            0.000000               1.000000      2.000000      0.000000   \n",
       "90%            0.000000               1.000000      3.000000      0.000000   \n",
       "95%            0.000000               1.000000      5.000000      0.000000   \n",
       "max            1.000000               1.000000     13.000000      1.000000   \n",
       "\n",
       "           duration  \n",
       "count  54030.000000  \n",
       "mean    2913.936665  \n",
       "std     2027.956268  \n",
       "min      366.000000  \n",
       "25%     1118.000000  \n",
       "50%     2039.500000  \n",
       "75%     4693.000000  \n",
       "90%     5844.000000  \n",
       "95%     6529.000000  \n",
       "max     7909.000000  "
      ]
     },
     "execution_count": 13,
     "metadata": {},
     "output_type": "execute_result"
    }
   ],
   "source": [
    "perc =[.25,.75, .90, .95]\n",
    "df.describe(percentiles = perc)"
   ]
  },
  {
   "cell_type": "code",
   "execution_count": null,
   "id": "7af89aec",
   "metadata": {},
   "outputs": [],
   "source": [
    "#number of zeros and number of unique values, number of missing values,\n",
    "# percentage of missing values) must be computed\n"
   ]
  },
  {
   "cell_type": "code",
   "execution_count": 16,
   "id": "554cdb3e",
   "metadata": {},
   "outputs": [
    {
     "data": {
      "text/plain": [
       "gender                       2\n",
       "age                        110\n",
       "gross_income             49994\n",
       "segment                      3\n",
       "num_credit_cards             2\n",
       "tiprel_1mes                  2\n",
       "ind_actividad_cliente        2\n",
       "num_Products                14\n",
       "num_loans                    2\n",
       "duration                  5677\n",
       "dtype: int64"
      ]
     },
     "execution_count": 16,
     "metadata": {},
     "output_type": "execute_result"
    }
   ],
   "source": [
    "df.nunique()"
   ]
  },
  {
   "cell_type": "code",
   "execution_count": 18,
   "id": "b96962ae",
   "metadata": {},
   "outputs": [
    {
     "data": {
      "text/plain": [
       "gender                   0\n",
       "age                      0\n",
       "gross_income             0\n",
       "segment                  0\n",
       "num_credit_cards         0\n",
       "tiprel_1mes              0\n",
       "ind_actividad_cliente    0\n",
       "num_Products             0\n",
       "num_loans                0\n",
       "duration                 0\n",
       "dtype: int64"
      ]
     },
     "execution_count": 18,
     "metadata": {},
     "output_type": "execute_result"
    }
   ],
   "source": [
    "df.isna().sum()"
   ]
  },
  {
   "cell_type": "code",
   "execution_count": null,
   "id": "942fa367",
   "metadata": {},
   "outputs": [],
   "source": []
  }
 ],
 "metadata": {
  "kernelspec": {
   "display_name": "Python 3",
   "language": "python",
   "name": "python3"
  },
  "language_info": {
   "codemirror_mode": {
    "name": "ipython",
    "version": 3
   },
   "file_extension": ".py",
   "mimetype": "text/x-python",
   "name": "python",
   "nbconvert_exporter": "python",
   "pygments_lexer": "ipython3",
   "version": "3.9.12"
  }
 },
 "nbformat": 4,
 "nbformat_minor": 5
}
